{
 "cells": [
  {
   "cell_type": "markdown",
   "metadata": {},
   "source": [
    "Claro, te explicaré el código paso a paso:\n",
    "\n",
    "### Importación de Librerías\n",
    "\n"
   ]
  },
  {
   "cell_type": "code",
   "execution_count": null,
   "metadata": {},
   "outputs": [],
   "source": [
    "import requests\n",
    "from bs4 import BeautifulSoup\n",
    "import pandas as pd"
   ]
  },
  {
   "cell_type": "markdown",
   "metadata": {},
   "source": [
    "- **requests**: Para realizar solicitudes HTTP y obtener el contenido de las páginas web.\n",
    "- **BeautifulSoup**: Para analizar y extraer datos del HTML.\n",
    "- **pandas**: Para manipular y estructurar los datos en un DataFrame.\n",
    "\n",
    "### Definición de la Función `scrape_books`\n",
    "\n"
   ]
  },
  {
   "cell_type": "code",
   "execution_count": null,
   "metadata": {},
   "outputs": [],
   "source": [
    "def scrape_books(min_rating, max_price):"
   ]
  },
  {
   "cell_type": "markdown",
   "metadata": {},
   "source": [
    "- **Parámetros**:\n",
    "  - `min_rating`: La calificación mínima de los libros que queremos filtrar.\n",
    "  - `max_price`: El precio máximo de los libros que queremos filtrar.\n",
    "\n",
    "### Inicialización de Variables\n",
    "\n"
   ]
  },
  {
   "cell_type": "code",
   "execution_count": null,
   "metadata": {},
   "outputs": [],
   "source": [
    "    base_url = \"http://books.toscrape.com/catalogue/page-{}.html\"\n",
    "    book_data = []"
   ]
  },
  {
   "cell_type": "markdown",
   "metadata": {},
   "source": [
    "- **base_url**: La URL base del sitio web con un marcador de posición para el número de página.\n",
    "- **book_data**: Una lista vacía para almacenar los datos de los libros.\n",
    "\n",
    "### Bucle para Recorrer las Páginas\n",
    "\n"
   ]
  },
  {
   "cell_type": "code",
   "execution_count": null,
   "metadata": {},
   "outputs": [],
   "source": [
    "    for page in range(1, 51):  # Assuming there are 50 pages\n",
    "        url = base_url.format(page)\n",
    "        response = requests.get(url)\n",
    "        response.encoding = 'utf-8'  # Ensure correct encoding\n",
    "        soup = BeautifulSoup(response.text, 'html.parser')"
   ]
  },
  {
   "cell_type": "markdown",
   "metadata": {},
   "source": [
    "- **Bucle**: Itera sobre las páginas del sitio web (asumiendo que hay 50 páginas).\n",
    "- **url**: Formatea la URL base con el número de página actual.\n",
    "- **response**: Realiza una solicitud HTTP a la URL y obtiene la respuesta.\n",
    "- **response.encoding**: Asegura que la codificación de la respuesta sea `utf-8`.\n",
    "- **soup**: Analiza el contenido HTML de la respuesta usando BeautifulSoup.\n",
    "\n",
    "### Extracción de Datos de los Libros\n",
    "\n"
   ]
  },
  {
   "cell_type": "code",
   "execution_count": null,
   "metadata": {},
   "outputs": [],
   "source": [
    "        books = soup.select('article.product_pod')\n",
    "        \n",
    "        for book in books:\n",
    "            rating = book.p['class'][1]\n",
    "            rating = convert_rating(rating)\n",
    "            price = book.select_one('p.price_color').text\n",
    "            price = float(price.replace('£', '').replace('Â', '').strip())  # Remove unwanted characters"
   ]
  },
  {
   "cell_type": "markdown",
   "metadata": {},
   "source": [
    "- **books**: Selecciona todos los elementos HTML que representan libros.\n",
    "- **rating**: Extrae la clase CSS que contiene la calificación del libro y la convierte a un número usando `convert_rating`.\n",
    "- **price**: Extrae el precio del libro, elimina caracteres no deseados (`£` y `Â`), y lo convierte a un valor flotante.\n",
    "\n",
    "### Filtrado de Libros\n",
    "\n"
   ]
  },
  {
   "cell_type": "code",
   "execution_count": null,
   "metadata": {},
   "outputs": [],
   "source": [
    "            if rating >= min_rating and price <= max_price:\n",
    "                title = book.h3.a['title']\n",
    "                book_url = \"http://books.toscrape.com/catalogue/\" + book.h3.a['href']\n",
    "                book_response = requests.get(book_url)\n",
    "                book_response.encoding = 'utf-8'  # Ensure correct encoding\n",
    "                book_soup = BeautifulSoup(book_response.text, 'html.parser')"
   ]
  },
  {
   "cell_type": "markdown",
   "metadata": {},
   "source": [
    "- **Condición**: Filtra los libros que cumplen con los criterios de `min_rating` y `max_price`.\n",
    "- **title**: Extrae el título del libro.\n",
    "- **book_url**: Construye la URL completa del libro.\n",
    "- **book_response**: Realiza una solicitud HTTP a la URL del libro y obtiene la respuesta.\n",
    "- **book_response.encoding**: Asegura que la codificación de la respuesta sea `utf-8`.\n",
    "- **book_soup**: Analiza el contenido HTML de la respuesta del libro usando BeautifulSoup.\n",
    "\n",
    "### Extracción de Detalles del Libro\n",
    "\n"
   ]
  },
  {
   "cell_type": "code",
   "execution_count": null,
   "metadata": {},
   "outputs": [],
   "source": [
    "                upc = book_soup.select_one('table.table.table-striped tr:nth-child(1) td').text\n",
    "                genre = book_soup.select_one('ul.breadcrumb li:nth-child(3) a').text\n",
    "                availability = book_soup.select_one('p.instock.availability').text.strip()\n",
    "                description = book_soup.select_one('#product_description ~ p')\n",
    "                description = description.text if description else \"No description available\""
   ]
  },
  {
   "cell_type": "markdown",
   "metadata": {},
   "source": [
    "- **upc**: Extrae el UPC del libro.\n",
    "- **genre**: Extrae el género del libro.\n",
    "- **availability**: Extrae la disponibilidad del libro.\n",
    "- **description**: Extrae la descripción del libro, si está disponible.\n",
    "\n",
    "### Almacenamiento de Datos\n",
    "\n"
   ]
  },
  {
   "cell_type": "code",
   "execution_count": null,
   "metadata": {},
   "outputs": [],
   "source": [
    "                book_data.append({\n",
    "                    \"UPC\": upc,\n",
    "                    \"Title\": title,\n",
    "                    \"Price (£)\": price,\n",
    "                    \"Rating\": rating,\n",
    "                    \"Genre\": genre,\n",
    "                    \"Availability\": availability,\n",
    "                    \"Description\": description\n",
    "                })"
   ]
  },
  {
   "cell_type": "markdown",
   "metadata": {},
   "source": [
    "- **book_data.append**: Añade un diccionario con los detalles del libro a la lista `book_data`.\n",
    "\n",
    "### Creación del DataFrame\n",
    "\n"
   ]
  },
  {
   "cell_type": "code",
   "execution_count": null,
   "metadata": {},
   "outputs": [],
   "source": [
    "    return pd.DataFrame(book_data)"
   ]
  },
  {
   "cell_type": "markdown",
   "metadata": {},
   "source": [
    "- **pd.DataFrame**: Convierte la lista de diccionarios `book_data` en un DataFrame de pandas y lo retorna.\n",
    "\n",
    "### Función Auxiliar `convert_rating`\n",
    "\n"
   ]
  },
  {
   "cell_type": "code",
   "execution_count": null,
   "metadata": {},
   "outputs": [],
   "source": [
    "def convert_rating(rating_str):\n",
    "    rating_dict = {\n",
    "        \"One\": 1,\n",
    "        \"Two\": 2,\n",
    "        \"Three\": 3,\n",
    "        \"Four\": 4,\n",
    "        \"Five\": 5\n",
    "    }\n",
    "    return rating_dict.get(rating_str, 0)"
   ]
  },
  {
   "cell_type": "markdown",
   "metadata": {},
   "source": [
    "- **convert_rating**: Convierte la calificación en formato de texto a un número entero usando un diccionario de mapeo.\n",
    "\n",
    "### Uso del Ejemplo\n",
    "\n"
   ]
  },
  {
   "cell_type": "code",
   "execution_count": null,
   "metadata": {},
   "outputs": [],
   "source": [
    "# Example usage\n",
    "df = scrape_books(min_rating=4, max_price=20)\n",
    "print(df)"
   ]
  },
  {
   "cell_type": "markdown",
   "metadata": {},
   "source": [
    "- **df**: Llama a la función `scrape_books` con una calificación mínima de 4 y un precio máximo de 20, y almacena el resultado en `df`.\n",
    "- **print(df)**: Imprime el DataFrame resultante."
   ]
  }
 ],
 "metadata": {
  "language_info": {
   "name": "python"
  }
 },
 "nbformat": 4,
 "nbformat_minor": 2
}
